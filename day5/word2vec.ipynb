{
 "cells": [
  {
   "cell_type": "code",
   "execution_count": 5,
   "id": "592d1f5a",
   "metadata": {},
   "outputs": [],
   "source": [
    "import numpy as np\n",
    "import pandas as pd\n",
    "\n",
    "import warnings\n",
    "warnings.filterwarnings('ignore')"
   ]
  },
  {
   "cell_type": "code",
   "execution_count": 6,
   "id": "156cdc2a",
   "metadata": {},
   "outputs": [
    {
     "data": {
      "text/html": [
       "<div>\n",
       "<style scoped>\n",
       "    .dataframe tbody tr th:only-of-type {\n",
       "        vertical-align: middle;\n",
       "    }\n",
       "\n",
       "    .dataframe tbody tr th {\n",
       "        vertical-align: top;\n",
       "    }\n",
       "\n",
       "    .dataframe thead th {\n",
       "        text-align: right;\n",
       "    }\n",
       "</style>\n",
       "<table border=\"1\" class=\"dataframe\">\n",
       "  <thead>\n",
       "    <tr style=\"text-align: right;\">\n",
       "      <th></th>\n",
       "      <th>review</th>\n",
       "      <th>sentiment</th>\n",
       "    </tr>\n",
       "  </thead>\n",
       "  <tbody>\n",
       "    <tr>\n",
       "      <th>0</th>\n",
       "      <td>One of the other reviewers has mentioned that ...</td>\n",
       "      <td>positive</td>\n",
       "    </tr>\n",
       "    <tr>\n",
       "      <th>1</th>\n",
       "      <td>A wonderful little production. &lt;br /&gt;&lt;br /&gt;The...</td>\n",
       "      <td>positive</td>\n",
       "    </tr>\n",
       "    <tr>\n",
       "      <th>2</th>\n",
       "      <td>I thought this was a wonderful way to spend ti...</td>\n",
       "      <td>positive</td>\n",
       "    </tr>\n",
       "    <tr>\n",
       "      <th>3</th>\n",
       "      <td>Basically there's a family where a little boy ...</td>\n",
       "      <td>negative</td>\n",
       "    </tr>\n",
       "    <tr>\n",
       "      <th>4</th>\n",
       "      <td>Petter Mattei's \"Love in the Time of Money\" is...</td>\n",
       "      <td>positive</td>\n",
       "    </tr>\n",
       "  </tbody>\n",
       "</table>\n",
       "</div>"
      ],
      "text/plain": [
       "                                              review sentiment\n",
       "0  One of the other reviewers has mentioned that ...  positive\n",
       "1  A wonderful little production. <br /><br />The...  positive\n",
       "2  I thought this was a wonderful way to spend ti...  positive\n",
       "3  Basically there's a family where a little boy ...  negative\n",
       "4  Petter Mattei's \"Love in the Time of Money\" is...  positive"
      ]
     },
     "execution_count": 6,
     "metadata": {},
     "output_type": "execute_result"
    }
   ],
   "source": [
    "temp_df = pd.read_csv('imdb.csv')\n",
    "df = temp_df.iloc[:1000]\n",
    "df.head()"
   ]
  },
  {
   "cell_type": "code",
   "execution_count": 7,
   "id": "3033d745",
   "metadata": {},
   "outputs": [],
   "source": [
    "df.drop_duplicates(inplace=True)"
   ]
  },
  {
   "cell_type": "code",
   "execution_count": 8,
   "id": "32ceca6e",
   "metadata": {},
   "outputs": [],
   "source": [
    "import re\n",
    "def remove_tags(raw_text):\n",
    "    cleaned_text = re.sub(re.compile('<.*?>'), '', raw_text)\n",
    "    return cleaned_text\n",
    "df['review'] = df['review'].apply(remove_tags)"
   ]
  },
  {
   "cell_type": "code",
   "execution_count": 10,
   "id": "7fde1c71",
   "metadata": {},
   "outputs": [],
   "source": [
    "df['review'] = df['review'].apply(lambda x:x.lower())"
   ]
  },
  {
   "cell_type": "code",
   "execution_count": 11,
   "id": "f6a91e65",
   "metadata": {},
   "outputs": [],
   "source": [
    "from nltk.corpus import stopwords\n",
    "\n",
    "sw_list = stopwords.words('english')\n",
    "\n",
    "df['review'] = df['review'].apply(lambda x: [item for item in x.split() if item not in sw_list]).apply(lambda x:\" \".join(x))"
   ]
  },
  {
   "cell_type": "code",
   "execution_count": 13,
   "id": "93d910c7",
   "metadata": {},
   "outputs": [],
   "source": [
    "import gensim"
   ]
  },
  {
   "cell_type": "code",
   "execution_count": 14,
   "id": "7796ef75",
   "metadata": {},
   "outputs": [],
   "source": [
    "from nltk import sent_tokenize\n",
    "from gensim.utils import simple_preprocess"
   ]
  },
  {
   "cell_type": "code",
   "execution_count": 15,
   "id": "46b90fca",
   "metadata": {},
   "outputs": [],
   "source": [
    "story = []\n",
    "for doc in df['review']:\n",
    "    raw_sent = sent_tokenize(doc)\n",
    "    for sent in raw_sent:\n",
    "        story.append(simple_preprocess(sent))\n",
    "    "
   ]
  },
  {
   "cell_type": "code",
   "execution_count": 16,
   "id": "fa55e808",
   "metadata": {},
   "outputs": [],
   "source": [
    "model = gensim.models.Word2Vec(\n",
    "    window=10,\n",
    "    min_count=2\n",
    ")"
   ]
  },
  {
   "cell_type": "code",
   "execution_count": 17,
   "id": "d193363a",
   "metadata": {},
   "outputs": [],
   "source": [
    "model.build_vocab(story)"
   ]
  },
  {
   "cell_type": "code",
   "execution_count": 18,
   "id": "9dca6cc8",
   "metadata": {},
   "outputs": [
    {
     "data": {
      "text/plain": [
       "(557231, 623495)"
      ]
     },
     "execution_count": 18,
     "metadata": {},
     "output_type": "execute_result"
    }
   ],
   "source": [
    "model.train(story, total_examples=model.corpus_count, epochs=model.epochs)"
   ]
  },
  {
   "cell_type": "code",
   "execution_count": 19,
   "id": "cd0716a5",
   "metadata": {},
   "outputs": [
    {
     "data": {
      "text/plain": [
       "9395"
      ]
     },
     "execution_count": 19,
     "metadata": {},
     "output_type": "execute_result"
    }
   ],
   "source": [
    "len(model.wv.index_to_key)"
   ]
  },
  {
   "cell_type": "code",
   "execution_count": 20,
   "id": "3a6fe748",
   "metadata": {},
   "outputs": [],
   "source": [
    "def document_vector(doc):\n",
    "    # remove out-of-vocabulary words\n",
    "    doc = [word for word in doc.split() if word in model.wv.index_to_key]\n",
    "    return np.mean(model.wv[doc], axis=0)"
   ]
  },
  {
   "cell_type": "code",
   "execution_count": 21,
   "id": "ada3c6ef",
   "metadata": {},
   "outputs": [
    {
     "data": {
      "text/plain": [
       "array([-2.7137515e-01,  3.7848389e-01,  1.5153392e-02,  5.8045555e-03,\n",
       "       -8.6782342e-03, -4.8016995e-01,  2.1696909e-01,  8.5855222e-01,\n",
       "       -3.7416050e-01, -1.7431460e-01, -1.6742556e-01, -6.6576308e-01,\n",
       "       -6.3816965e-02,  1.3379684e-01,  1.3412211e-02, -3.7427422e-01,\n",
       "        1.7419366e-02, -6.1223054e-01,  8.4908828e-02, -7.8225458e-01,\n",
       "        2.0347328e-01,  2.1074718e-01,  2.3626739e-01, -1.1706268e-01,\n",
       "       -8.3594739e-02,  1.5966643e-02, -3.0384028e-01, -1.6134499e-01,\n",
       "       -2.5672263e-01,  2.5262948e-02,  5.1697099e-01,  1.4523655e-01,\n",
       "        1.1521604e-01, -2.0305443e-01, -1.0149473e-01,  2.5746194e-01,\n",
       "        1.6986284e-01, -2.1381244e-01, -1.8322672e-01, -7.1336359e-01,\n",
       "        3.6819901e-02, -4.3867850e-01, -8.7744735e-02,  5.8983937e-02,\n",
       "        3.0324599e-01, -2.6688379e-01, -2.3823027e-01, -9.4745107e-02,\n",
       "        2.9243731e-01,  3.6179048e-01,  3.4733865e-02, -3.6195010e-01,\n",
       "       -2.6586413e-01, -1.9600119e-01, -2.1553731e-01,  5.3180445e-02,\n",
       "        2.3689041e-01,  6.1386921e-03, -2.8307700e-01,  1.9880748e-01,\n",
       "        1.4614449e-01,  2.9941913e-01, -6.0104202e-02,  4.0644612e-02,\n",
       "       -4.2533076e-01,  3.8577166e-01,  1.2074312e-01,  2.4342066e-01,\n",
       "       -5.0950933e-01,  3.7645522e-01, -2.2378013e-01,  2.0545861e-01,\n",
       "        3.1226897e-01, -2.3229109e-01,  3.6172476e-01,  9.0870216e-02,\n",
       "        2.5288001e-02,  8.1045082e-04, -4.3197447e-01, -2.6680395e-02,\n",
       "       -1.8783979e-01, -9.7150065e-02, -2.7735192e-01,  5.6782228e-01,\n",
       "       -1.0161745e-02, -9.3165740e-02,  9.7458817e-02,  2.4952669e-01,\n",
       "        4.2055756e-01,  2.2119586e-01,  5.1075113e-01,  2.1217962e-01,\n",
       "        2.3834350e-02,  8.5636668e-02,  6.6091543e-01,  3.6234668e-01,\n",
       "        1.4968917e-01, -4.8644587e-01,  2.4643285e-02,  2.3243771e-01],\n",
       "      dtype=float32)"
      ]
     },
     "execution_count": 21,
     "metadata": {},
     "output_type": "execute_result"
    }
   ],
   "source": [
    "document_vector(df['review'].values[0])"
   ]
  },
  {
   "cell_type": "code",
   "execution_count": 22,
   "id": "9c382565",
   "metadata": {},
   "outputs": [],
   "source": [
    "from tqdm import tqdm"
   ]
  },
  {
   "cell_type": "code",
   "execution_count": 23,
   "id": "75e66f5d",
   "metadata": {},
   "outputs": [
    {
     "name": "stderr",
     "output_type": "stream",
     "text": [
      "100%|██████████████████████████████████████| 1000/1000 [00:08<00:00, 120.46it/s]\n"
     ]
    }
   ],
   "source": [
    "X = []\n",
    "for doc in tqdm(df['review'].values):\n",
    "    X.append(document_vector(doc))"
   ]
  },
  {
   "cell_type": "code",
   "execution_count": 24,
   "id": "68de3dcc",
   "metadata": {},
   "outputs": [],
   "source": [
    "X = np.array(X)"
   ]
  },
  {
   "cell_type": "code",
   "execution_count": 25,
   "id": "128598c7",
   "metadata": {},
   "outputs": [
    {
     "data": {
      "text/plain": [
       "array([-2.7137515e-01,  3.7848389e-01,  1.5153392e-02,  5.8045555e-03,\n",
       "       -8.6782342e-03, -4.8016995e-01,  2.1696909e-01,  8.5855222e-01,\n",
       "       -3.7416050e-01, -1.7431460e-01, -1.6742556e-01, -6.6576308e-01,\n",
       "       -6.3816965e-02,  1.3379684e-01,  1.3412211e-02, -3.7427422e-01,\n",
       "        1.7419366e-02, -6.1223054e-01,  8.4908828e-02, -7.8225458e-01,\n",
       "        2.0347328e-01,  2.1074718e-01,  2.3626739e-01, -1.1706268e-01,\n",
       "       -8.3594739e-02,  1.5966643e-02, -3.0384028e-01, -1.6134499e-01,\n",
       "       -2.5672263e-01,  2.5262948e-02,  5.1697099e-01,  1.4523655e-01,\n",
       "        1.1521604e-01, -2.0305443e-01, -1.0149473e-01,  2.5746194e-01,\n",
       "        1.6986284e-01, -2.1381244e-01, -1.8322672e-01, -7.1336359e-01,\n",
       "        3.6819901e-02, -4.3867850e-01, -8.7744735e-02,  5.8983937e-02,\n",
       "        3.0324599e-01, -2.6688379e-01, -2.3823027e-01, -9.4745107e-02,\n",
       "        2.9243731e-01,  3.6179048e-01,  3.4733865e-02, -3.6195010e-01,\n",
       "       -2.6586413e-01, -1.9600119e-01, -2.1553731e-01,  5.3180445e-02,\n",
       "        2.3689041e-01,  6.1386921e-03, -2.8307700e-01,  1.9880748e-01,\n",
       "        1.4614449e-01,  2.9941913e-01, -6.0104202e-02,  4.0644612e-02,\n",
       "       -4.2533076e-01,  3.8577166e-01,  1.2074312e-01,  2.4342066e-01,\n",
       "       -5.0950933e-01,  3.7645522e-01, -2.2378013e-01,  2.0545861e-01,\n",
       "        3.1226897e-01, -2.3229109e-01,  3.6172476e-01,  9.0870216e-02,\n",
       "        2.5288001e-02,  8.1045082e-04, -4.3197447e-01, -2.6680395e-02,\n",
       "       -1.8783979e-01, -9.7150065e-02, -2.7735192e-01,  5.6782228e-01,\n",
       "       -1.0161745e-02, -9.3165740e-02,  9.7458817e-02,  2.4952669e-01,\n",
       "        4.2055756e-01,  2.2119586e-01,  5.1075113e-01,  2.1217962e-01,\n",
       "        2.3834350e-02,  8.5636668e-02,  6.6091543e-01,  3.6234668e-01,\n",
       "        1.4968917e-01, -4.8644587e-01,  2.4643285e-02,  2.3243771e-01],\n",
       "      dtype=float32)"
      ]
     },
     "execution_count": 25,
     "metadata": {},
     "output_type": "execute_result"
    }
   ],
   "source": [
    "X[0]"
   ]
  },
  {
   "cell_type": "code",
   "execution_count": 26,
   "id": "12eb87a5",
   "metadata": {},
   "outputs": [],
   "source": [
    "from sklearn.preprocessing import LabelEncoder\n",
    "encoder = LabelEncoder()\n",
    "\n",
    "y = encoder.fit_transform(df['sentiment'])"
   ]
  },
  {
   "cell_type": "code",
   "execution_count": 27,
   "id": "9d7c7228",
   "metadata": {},
   "outputs": [],
   "source": [
    "from sklearn.model_selection import train_test_split\n",
    "X_train,X_test,y_train,y_test = train_test_split(X,y,test_size=0.2,random_state=1)"
   ]
  },
  {
   "cell_type": "code",
   "execution_count": 29,
   "id": "dc5696a0",
   "metadata": {},
   "outputs": [
    {
     "data": {
      "text/plain": [
       "0.615"
      ]
     },
     "execution_count": 29,
     "metadata": {},
     "output_type": "execute_result"
    }
   ],
   "source": [
    "from sklearn.ensemble import RandomForestClassifier\n",
    "from sklearn.metrics import accuracy_score\n",
    "\n",
    "rf = RandomForestClassifier()\n",
    "rf.fit(X_train,y_train)\n",
    "y_pred = rf.predict(X_test)\n",
    "accuracy_score(y_test,y_pred)"
   ]
  }
 ],
 "metadata": {
  "kernelspec": {
   "display_name": "Python 3 (ipykernel)",
   "language": "python",
   "name": "python3"
  },
  "language_info": {
   "codemirror_mode": {
    "name": "ipython",
    "version": 3
   },
   "file_extension": ".py",
   "mimetype": "text/x-python",
   "name": "python",
   "nbconvert_exporter": "python",
   "pygments_lexer": "ipython3",
   "version": "3.10.4"
  }
 },
 "nbformat": 4,
 "nbformat_minor": 5
}
