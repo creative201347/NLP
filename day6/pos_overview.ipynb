{
 "cells": [
  {
   "cell_type": "markdown",
   "id": "7565771e",
   "metadata": {},
   "source": [
    "# POS Tagging | Hidden Markov Models in NLP | Viterbi Algorithm in NLP\n",
    "\n",
    "**Part of Speech Tagging** is a process of converting a sentence to forms – list of words, list of tuples (where each tuple is having a form (word, tag)). The tag in case of is a part-of-speech tag, and signifies whether the word is a noun, adjective, verb, and so on.\n",
    "\n",
    "<img src=\"pos1.jpeg\"/>\n",
    "In natural language, to understand the meaning of any sentence we need to understand the proper structure of the sentence and the relationship between the words available in the given sentence. In NLP, the most basic models are based on the Bag of Words (Bow) approach or technique but such models fail to capture the structure of the sentences and the syntactic relations between words.\n",
    "To overcome this issue, we need to learn **POS Tagging and Chunking in NLP**.\n",
    "\n",
    "In traditional grammar, a part of speech (POS) is a category of words that have similar grammatical properties. The part of speech explains how a word is used in a sentence. There are eight parts of speech in the English language: noun, pronoun, verb, adjective, adverb, preposition, conjunction, and interjection.\n",
    "\n",
    "- Noun (N) — John, London, Table, Teacher, Pen, City, Happiness, Hope\n",
    "- Pronoun(PRO) — I, We, They, You, He, She, It, Me, Us, Them, Him, Her, This, That\n",
    "- Verb (V) — Read, Eat, Go, Speak, Run, Play, Live, Have, Like, Are, Is\n",
    "- Adverb(ADV) — Slowly, Quietly, Very, Always, Never, Too, Well, Tomorrow\n",
    "- Adjective(ADJ) — Big, Happy, Green, Young, Fun, Crazy, Three\n",
    "- Preposition (P) — At, On, In, From, With, Near, Between, About, Under\n",
    "- Conjunction (CON) — And, Or,But, Because, So, Yet, Unless, Since, If\n",
    "- Interjection (INT) — Ouch! Wow! Great! Help! Oh! Hey! Hi!\n",
    "\n",
    "The process of classifying words into their parts of speech and labeling them accordingly is known as **POS-tagging**. Parts of speech are also known as word classes or lexical categories. The collection of tags used for a particular task is known as a tagset.\n",
    "To understand the meaning of any sentence or to extract relationships and build a knowledge graph, POS Tagging is a very important step.\n",
    "\n",
    "**Universal Part-of-Speech Tagset**\n",
    "\n",
    "The Universal tagset of NLTK comprises 12 tag classes: Verb, Noun, Pronouns, Adjectives, Adverbs, Adpositions, Conjunctions, Determiners, Cardinal Numbers, Particles, Other/ Foreign words, Punctuations. This dataset has 3,914 tagged sentences and a vocabulary of 12,408 words.\n",
    "<img src=\"pos2.png\" />\n",
    "\n",
    "***POS tagging is a supervised learning solution which aims to assign parts of speech tag to each word of a given text (such as nouns, pronoun, verbs, adjectives, and others) based on its context and definition.***\n",
    "\n",
    "## How does POS Tagging work?\n",
    "As per the NLP Pipeline, we start POS Tagging with text normalization after obtaining a text from the source. Text normalization includes:\n",
    "\n",
    "- Converting Text (all letters) into lower case\n",
    "- Removing HTML tags\n",
    "- Expanding contractions\n",
    "- Converting numbers into words or removing numbers\n",
    "- Removing special character (punctuations, accent marks and other diacritics)\n",
    "- Removing white spaces\n",
    "- Word Tokenization\n",
    "- Stemming and Lemmatization\n",
    "- Removing stop words, sparse terms, and particular words\n",
    "\n",
    "**Once the given text is cleaned and tokenized then we apply pos tagger to tag tokenized words.**<br />\n",
    "There are many tools containing POS taggers including NLTK, TextBlob, spaCy, Pattern, Stanford CoreNLP, Memory-Based Shallow Parser (MBSP), Apache OpenNLP, Apache Lucene, General Architecture for Text Engineering (GATE), FreeLing, Illinois Part of Speech Tagger, and DKPro Core.\n",
    "\n",
    "## The Different POS Tagging Techniques\n",
    "\n",
    "- **Lexical Based Methods** — Assigns the POS tag the most frequently occurring with a word in the training corpus.\n",
    "- **Rule-Based Methods** — Assigns POS tags based on rules. For example, we can have a rule that says, words ending with “ed” or “ing” must be assigned to a verb. Rule-Based Techniques can be used along with Lexical Based approaches to allow POS Tagging of words that are not present in the training corpus but are there in the testing data.\n",
    "- **Probabilistic Methods** — This method assigns the POS tags based on the probability of a particular tag sequence occurring. Conditional Random Fields (CRFs) and Hidden Markov Models (HMMs) are probabilistic approaches to assign a POS Tag.\n",
    "- **Deep Learning Methods** — Recurrent Neural Networks can also be used for POS tagging."
   ]
  },
  {
   "cell_type": "markdown",
   "id": "f7bce614",
   "metadata": {},
   "source": [
    "## Chunking (shallow parsing)\n",
    "A **chunk** is a collection of basic familiar units that have been grouped together and stored in a person’s memory. In natural language, chunks are collective higher order units that have discrete grammatical meanings (noun groups or phrases, verb groups, etc.)\n",
    "\n",
    "**Chunking** is a process of extracting phrases (chunks) from unstructured text. Instead of using a single word which may not represent the actual meaning of the text, it’s recommended to use chunk or phrase.\n",
    "\n",
    "The basic technique we will use for entity detection is chunking, which segments and labels multi-token sequences as illustrated below:\n",
    "\n",
    "<img src=\"chunk.png\" />\n",
    "\n",
    "**Chunking tools** : NLTK, TreeTagger chunker, Apache OpenNLP, General Architecture for Text Engineering (GATE), FreeLing.\n",
    "\n",
    "There are a lot of libraries which give phrases out-of-box such as Spacy or TextBlob. NLTK just provides a mechanism using regular expressions to generate chunks.\n",
    "\n",
    "Noun Phrase: Noun phrase chunking, or NP-chunking, where we search for chunks corresponding to individual noun phrases.\n",
    "\n",
    "In order to create an NP-chunk, we will first define a chunk grammar using POS tags, consisting of rules that indicate how sentences should be chunked. We will define this using a single regular expression rule.\n",
    "\n",
    "In this case, we will define a simple grammar with a single regular-expression rule. This rule says that an NP chunk should be formed whenever the chunker finds an optional determiner (DT) followed by any number of adjectives (JJ) and then a noun (NN) then the Noun Phrase(NP) chunk should be formed."
   ]
  }
 ],
 "metadata": {
  "kernelspec": {
   "display_name": "Python 3 (ipykernel)",
   "language": "python",
   "name": "python3"
  },
  "language_info": {
   "codemirror_mode": {
    "name": "ipython",
    "version": 3
   },
   "file_extension": ".py",
   "mimetype": "text/x-python",
   "name": "python",
   "nbconvert_exporter": "python",
   "pygments_lexer": "ipython3",
   "version": "3.10.4"
  }
 },
 "nbformat": 4,
 "nbformat_minor": 5
}
